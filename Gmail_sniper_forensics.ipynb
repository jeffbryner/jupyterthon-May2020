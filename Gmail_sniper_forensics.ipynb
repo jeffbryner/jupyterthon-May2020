{
 "cells": [
  {
   "cell_type": "code",
   "execution_count": null,
   "metadata": {},
   "outputs": [],
   "source": [
    "# if needed, install the libraries\n",
    "!pip install --upgrade google-api-python-client google-auth-httplib2 google-auth-oauthlib oauth2client"
   ]
  },
  {
   "cell_type": "code",
   "execution_count": 1,
   "metadata": {},
   "outputs": [],
   "source": [
    "import json\n",
    "import yaml\n",
    "import datetime\n",
    "import base64\n",
    "import email\n",
    "from googleapiclient.discovery import build\n",
    "from google.oauth2 import service_account\n",
    "from oauth2client.service_account import ServiceAccountCredentials\n",
    "from google.auth.transport.requests import Request\n",
    "from apiclient import discovery, errors"
   ]
  },
  {
   "cell_type": "code",
   "execution_count": 2,
   "metadata": {},
   "outputs": [],
   "source": [
    "#you'll need these scopes\n",
    "SCOPES = ['https://www.googleapis.com/auth/gmail.readonly']"
   ]
  },
  {
   "cell_type": "code",
   "execution_count": null,
   "metadata": {},
   "outputs": [],
   "source": [
    "# authenticate as your service account for your gcloud project\n",
    "credentials = service_account.Credentials.from_service_account_file(\n",
    "        '/path/to/file.json', scopes=SCOPES)\n",
    "credentials.service_account_email"
   ]
  },
  {
   "cell_type": "code",
   "execution_count": 4,
   "metadata": {},
   "outputs": [],
   "source": [
    "# get delegated access to a user's mail\n",
    "user_email=\"someone@somewhere.com\"\n",
    "user_id=\"me\"\n",
    "try:    \n",
    "    credentials = credentials.with_subject(user_email)\n",
    "    gmail = build('gmail', 'v1', credentials=credentials)\n",
    "except Exception as e:\n",
    "    print(e)"
   ]
  },
  {
   "cell_type": "code",
   "execution_count": null,
   "metadata": {},
   "outputs": [],
   "source": [
    "# historyId returned in the profile is useful for orienting to \n",
    "# where to start looking in history for actions on a message\n",
    "gmail.users().getProfile(userId=user_id).execute()"
   ]
  },
  {
   "cell_type": "code",
   "execution_count": null,
   "metadata": {
    "jupyter": {
     "outputs_hidden": true
    }
   },
   "outputs": [],
   "source": [
    "# get user's labels to orient\n",
    "gmail.users().labels().list(userId=user_id).execute()"
   ]
  },
  {
   "cell_type": "code",
   "execution_count": null,
   "metadata": {},
   "outputs": [],
   "source": [
    "# find messages matching query with a chosen subject\n",
    "# query can be anything that works in gmail's search bar\n",
    "query=r\"\"\"\n",
    "from:someone@somewhere.com subject:'a subject you are looking for'\n",
    "\"\"\"\n",
    "\n",
    "messages=gmail.users().messages().list(userId=user_id,\n",
    "                              maxResults=100,\n",
    "                              includeSpamTrash=True,\n",
    "                              q=query).execute()\n",
    "for item in messages['messages']:\n",
    "    message = gmail.users().messages().get(userId=user_id, id=item['id']).execute()\n",
    "    print(f\"id:{message['id']}, historyId: {message['historyId']}, labels: {message['labelIds']}\")\n",
    "    print(yaml.dump(message['payload']['headers']))\n",
    "    \n"
   ]
  },
  {
   "cell_type": "code",
   "execution_count": null,
   "metadata": {},
   "outputs": [],
   "source": [
    "# get all data elements of  particular message\n",
    "message_id='somethingLike1a297881318f'\n",
    "message=gmail.users().messages().get(userId=user_id, format='full',id=message_id).execute()\n",
    "message"
   ]
  },
  {
   "cell_type": "code",
   "execution_count": null,
   "metadata": {},
   "outputs": [],
   "source": [
    "#find history for a particular message\n",
    "\n",
    "# set the message ID\n",
    "message_id='somethingLike1a297881318f'\n",
    "\n",
    "# for history ID, start at least a thousand back from what is returned from 'historyId' for a particular message\n",
    "# and adjust accordingly\n",
    "start_history_id=3461100 \n",
    "\n",
    "history = (gmail.users().history().list(userId=user_id, startHistoryId=start_history_id).execute())\n",
    "changes = history['history'] if 'history' in history else []\n",
    "while 'nextPageToken' in history:\n",
    "    page_token = history['nextPageToken']\n",
    "    history = (gmail.users().history().list(userId=user_id,\n",
    "                                    startHistoryId=start_history_id,\n",
    "                                    pageToken=page_token).execute())\n",
    "    current_historyId=history['historyId']\n",
    "    changes.extend(history['history'])\n",
    "\n",
    "\n",
    "print(f'current historyId:{current_historyId}')\n",
    "for item in changes:\n",
    "    if message_id in [i['id'] for i in item['messages']]:\n",
    "        print(item)\n",
    "\n",
    "# note you can only infer a relative timestamp from the history ID since there is no timestamp in the history record: \n",
    "# Please upvote/star https://issuetracker.google.com/issues/36759772\n",
    "# but you can at least tell order of operations via the incrementing historyId"
   ]
  },
  {
   "cell_type": "code",
   "execution_count": 122,
   "metadata": {},
   "outputs": [
    {
     "data": {
      "text/plain": [
       "'2020-04-22T15:52:51+00:00'"
      ]
     },
     "execution_count": 122,
     "metadata": {},
     "output_type": "execute_result"
    }
   ],
   "source": [
    "# get UTC date from a message 'internalDate' (epoch in milliseconds)\n",
    "datetime.datetime.utcfromtimestamp(int(message['internalDate'])/1000).replace(tzinfo=datetime.timezone.utc).isoformat()"
   ]
  },
  {
   "cell_type": "code",
   "execution_count": null,
   "metadata": {},
   "outputs": [],
   "source": [
    "# get the raw message, decode it\n",
    "message_id='somethingLike1a297881318f'\n",
    "message=gmail.users().messages().get(userId=user_id, format='raw',id=message_id).execute()\n",
    "mime_message=base64.urlsafe_b64decode(message['raw'].encode('ASCII'))\n",
    "email_message=email.message_from_bytes(mime_message)\n",
    "print(email_message.as_string())"
   ]
  },
  {
   "cell_type": "code",
   "execution_count": 44,
   "metadata": {},
   "outputs": [
    {
     "data": {
      "text/plain": [
       "b'test\\n'"
      ]
     },
     "execution_count": 44,
     "metadata": {},
     "output_type": "execute_result"
    }
   ],
   "source": [
    "base64.b64decode('dGVzdAo=')"
   ]
  },
  {
   "cell_type": "code",
   "execution_count": null,
   "metadata": {},
   "outputs": [],
   "source": []
  }
 ],
 "metadata": {
  "kernelspec": {
   "display_name": "Python 3",
   "language": "python",
   "name": "python3"
  },
  "language_info": {
   "codemirror_mode": {
    "name": "ipython",
    "version": 3
   },
   "file_extension": ".py",
   "mimetype": "text/x-python",
   "name": "python",
   "nbconvert_exporter": "python",
   "pygments_lexer": "ipython3",
   "version": "3.7.7"
  }
 },
 "nbformat": 4,
 "nbformat_minor": 4
}
