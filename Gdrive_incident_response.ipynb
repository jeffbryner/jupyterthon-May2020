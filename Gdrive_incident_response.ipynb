{
 "cells": [
  {
   "cell_type": "code",
   "execution_count": null,
   "metadata": {},
   "outputs": [],
   "source": [
    "!pip install --upgrade google-api-python-client google-auth-httplib2 google-auth-oauthlib oauth2client"
   ]
  },
  {
   "cell_type": "code",
   "execution_count": null,
   "metadata": {},
   "outputs": [],
   "source": [
    "import json\n",
    "import yaml\n",
    "from googleapiclient.discovery import build\n",
    "from oauth2client.service_account import ServiceAccountCredentials"
   ]
  },
  {
   "cell_type": "code",
   "execution_count": null,
   "metadata": {},
   "outputs": [],
   "source": [
    "SCOPES = ['https://www.googleapis.com/auth/drive']"
   ]
  },
  {
   "cell_type": "code",
   "execution_count": null,
   "metadata": {},
   "outputs": [],
   "source": [
    "credentials = ServiceAccountCredentials.from_json_keyfile_name(\n",
    "    '/path/to/your/service_account_credentials_file.json', SCOPES)\n",
    "credentials=credentials.create_delegated(\"user@domain.com\")\n",
    "drive3 = build('drive', 'v3', credentials=credentials)\n",
    "drive2 = build('drive', 'v2', credentials=credentials)"
   ]
  },
  {
   "cell_type": "code",
   "execution_count": null,
   "metadata": {},
   "outputs": [],
   "source": [
    "file_name=\"secret\"\n",
    "page_token = None\n",
    "page=0\n",
    "while page < 5:\n",
    "    response = drive3.files().list(q=f\"name contains '{file_name}'\",\n",
    "                                          corpora='allDrives',\n",
    "                                          fields='nextPageToken, files(id, name)',\n",
    "                                  includeItemsFromAllDrives=True,\n",
    "                                  supportsAllDrives=True,\n",
    "                                          pageToken=page_token).execute()\n",
    "    for file in response.get('files', []):\n",
    "        print('Found file: %s (%s)' % (file.get('name'), file.get('id')))\n",
    "    page_token = response.get('nextPageToken', None)\n",
    "    page+=1\n",
    "    if page_token is None:\n",
    "        break\n"
   ]
  },
  {
   "cell_type": "code",
   "execution_count": null,
   "metadata": {},
   "outputs": [],
   "source": [
    "file_id='the-file-id-returned-above'\n",
    "\n",
    "#driveV2 has much more metadata\n",
    "metadata=drive2.files().get(fileId=file_id).execute()\n",
    "print(yaml.dump(metadata))"
   ]
  },
  {
   "cell_type": "code",
   "execution_count": null,
   "metadata": {},
   "outputs": [],
   "source": [
    "permissions = drive2.permissions().list(fileId=file_id, useDomainAdminAccess=False).execute()\n",
    "perms=permissions.get('items', [])\n",
    "for p in perms:\n",
    "    print(p)"
   ]
  },
  {
   "cell_type": "code",
   "execution_count": null,
   "metadata": {},
   "outputs": [],
   "source": [
    "permission_id='the-permission-id-returned-above'\n",
    "drive2.permissions().delete(fileId=file_id, permissionId=permission_id).execute()"
   ]
  },
  {
   "cell_type": "code",
   "execution_count": null,
   "metadata": {},
   "outputs": [],
   "source": []
  }
 ],
 "metadata": {
  "kernelspec": {
   "display_name": "Python 3",
   "language": "python",
   "name": "python3"
  },
  "language_info": {
   "codemirror_mode": {
    "name": "ipython",
    "version": 3
   },
   "file_extension": ".py",
   "mimetype": "text/x-python",
   "name": "python",
   "nbconvert_exporter": "python",
   "pygments_lexer": "ipython3",
   "version": "3.7.3"
  }
 },
 "nbformat": 4,
 "nbformat_minor": 2
}
