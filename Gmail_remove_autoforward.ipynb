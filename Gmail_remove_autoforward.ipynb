{
 "cells": [
  {
   "cell_type": "code",
   "execution_count": null,
   "metadata": {},
   "outputs": [],
   "source": [
    "# if needed, install the libraries\n",
    "!pip install --upgrade google-api-python-client google-auth-httplib2 google-auth-oauthlib oauth2client"
   ]
  },
  {
   "cell_type": "code",
   "execution_count": null,
   "metadata": {},
   "outputs": [],
   "source": [
    "import json\n",
    "import yaml\n",
    "from googleapiclient.discovery import build\n",
    "from google.oauth2 import service_account\n",
    "from oauth2client.service_account import ServiceAccountCredentials"
   ]
  },
  {
   "cell_type": "code",
   "execution_count": null,
   "metadata": {},
   "outputs": [],
   "source": [
    "SCOPES = ['https://www.googleapis.com/auth/gmail.settings.basic','https://www.googleapis.com/auth/gmail.modify','https://www.googleapis.com/auth/gmail.settings.sharing']"
   ]
  },
  {
   "cell_type": "code",
   "execution_count": null,
   "metadata": {},
   "outputs": [],
   "source": [
    "credentials = service_account.Credentials.from_service_account_file(\n",
    "        '/path/to/credentials.json', scopes=SCOPES)"
   ]
  },
  {
   "cell_type": "code",
   "execution_count": null,
   "metadata": {},
   "outputs": [],
   "source": [
    "#target\n",
    "user='someone@somewhere.com'"
   ]
  },
  {
   "cell_type": "code",
   "execution_count": null,
   "metadata": {},
   "outputs": [],
   "source": [
    "# list forwards\n",
    "credentials = credentials.with_subject(user)\n",
    "gmail = build('gmail', 'v1', credentials=credentials)\n",
    "gmail.users().settings().forwardingAddresses().list(userId='me').execute()"
   ]
  },
  {
   "cell_type": "code",
   "execution_count": null,
   "metadata": {},
   "outputs": [],
   "source": [
    "# is forwarding enabled?\n",
    "gmail.users().settings().getAutoForwarding(userId='me').execute()"
   ]
  },
  {
   "cell_type": "code",
   "execution_count": null,
   "metadata": {},
   "outputs": [],
   "source": [
    "# are there filters involved in forwarding?\n",
    "gmail.users().settings().filters().list(userId='me').execute()"
   ]
  },
  {
   "cell_type": "code",
   "execution_count": null,
   "metadata": {},
   "outputs": [],
   "source": [
    "#remove a forward\n",
    "credentials = credentials.with_subject(user)\n",
    "gmail = build('gmail', 'v1', credentials=credentials)\n",
    "gmail.users().settings().forwardingAddresses().delete(userId='me',forwardingEmail='forward@elsewhere.com').execute()"
   ]
  },
  {
   "cell_type": "code",
   "execution_count": null,
   "metadata": {},
   "outputs": [],
   "source": []
  }
 ],
 "metadata": {
  "kernelspec": {
   "display_name": "Python 3",
   "language": "python",
   "name": "python3"
  },
  "language_info": {
   "codemirror_mode": {
    "name": "ipython",
    "version": 3
   },
   "file_extension": ".py",
   "mimetype": "text/x-python",
   "name": "python",
   "nbconvert_exporter": "python",
   "pygments_lexer": "ipython3",
   "version": "3.7.7"
  }
 },
 "nbformat": 4,
 "nbformat_minor": 4
}